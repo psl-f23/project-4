{
 "cells": [
  {
   "cell_type": "markdown",
   "id": "e380cdb6-5989-4402-828c-e7d3112cf12f",
   "metadata": {},
   "source": [
    "## PROJECT 4\n",
    "Fall 2023 | STAT-542 / CS-598\n",
    "\n",
    "by Baolong Truong (baolong3), Robbie Li (robbiel2), Wesley Ecoiffier (wesleye2)"
   ]
  },
  {
   "cell_type": "code",
   "execution_count": 1,
   "id": "7bad2361-da7f-4629-b739-3ad835886d57",
   "metadata": {
    "tags": []
   },
   "outputs": [],
   "source": [
    "# Define imports and set options\n",
    "import pandas as pd\n",
    "import numpy as np\n",
    "import requests\n",
    "import warnings\n",
    "from sklearn.metrics.pairwise import cosine_similarity\n",
    "\n",
    "pd.set_option(\"display.float_format\", \"{:.7f}\".format)\n",
    "warnings.filterwarnings(\"ignore\")"
   ]
  },
  {
   "cell_type": "markdown",
   "id": "01fcbad7-5d05-41c8-9c8b-e938b896e2b9",
   "metadata": {},
   "source": [
    "## Preprocessing\n",
    "1. Fetch required data\n",
    "2. Clean and format data movie data\n",
    "3. Merge movie and ratings data"
   ]
  },
  {
   "cell_type": "code",
   "execution_count": 3,
   "id": "e2bf96bb-0b76-41f0-8324-cb15eb8fe6b0",
   "metadata": {
    "tags": []
   },
   "outputs": [],
   "source": [
    "# Get movies list and create movies DataFrame\n",
    "\n",
    "ratings = pd.read_csv('data/ratings.csv')\n",
    "movies_list_url = \"https://liangfgithub.github.io/MovieData/movies.dat?raw=true\"\n",
    "\n",
    "# Fetch the data from the URL\n",
    "movies_list = requests.get(movies_list_url)\n",
    "\n",
    "# Split the data into lines and then split each line using \"::\"\n",
    "movie_lines = movies_list.text.split('\\n')\n",
    "movie_data = [line.split(\"::\") for line in movie_lines if line]\n",
    "\n",
    "# Create a DataFrame from the movie data\n",
    "movies = pd.DataFrame(movie_data, columns=['movie_id', 'title', 'genres'])\n",
    "movies['movie_id'] = movies['movie_id'].astype(int)"
   ]
  },
  {
   "cell_type": "code",
   "execution_count": 4,
   "id": "0a42e928-63ca-49fe-bd28-3ef02c4233f2",
   "metadata": {
    "tags": []
   },
   "outputs": [
    {
     "ename": "ValueError",
     "evalue": "invalid literal for int() with base 10: 'nnamed: 3706'",
     "output_type": "error",
     "traceback": [
      "\u001b[1;31m-----------------------------------------------------------\u001b[0m",
      "\u001b[1;31mValueError\u001b[0m                Traceback (most recent call last)",
      "Cell \u001b[1;32mIn[4], line 5\u001b[0m\n\u001b[0;32m      3\u001b[0m ratings_count \u001b[38;5;241m=\u001b[39m pd\u001b[38;5;241m.\u001b[39mDataFrame({\u001b[38;5;124m'\u001b[39m\u001b[38;5;124mcount\u001b[39m\u001b[38;5;124m'\u001b[39m: ratings_count})\n\u001b[0;32m      4\u001b[0m ratings_count[\u001b[38;5;124m'\u001b[39m\u001b[38;5;124mmovie_id\u001b[39m\u001b[38;5;124m'\u001b[39m] \u001b[38;5;241m=\u001b[39m ratings_count\u001b[38;5;241m.\u001b[39mindex\n\u001b[1;32m----> 5\u001b[0m ratings_count[\u001b[38;5;124m'\u001b[39m\u001b[38;5;124mmovie_id\u001b[39m\u001b[38;5;124m'\u001b[39m] \u001b[38;5;241m=\u001b[39m \u001b[43mratings_count\u001b[49m\u001b[43m[\u001b[49m\u001b[38;5;124;43m'\u001b[39;49m\u001b[38;5;124;43mmovie_id\u001b[39;49m\u001b[38;5;124;43m'\u001b[39;49m\u001b[43m]\u001b[49m\u001b[38;5;241;43m.\u001b[39;49m\u001b[43mapply\u001b[49m\u001b[43m(\u001b[49m\u001b[38;5;28;43;01mlambda\u001b[39;49;00m\u001b[43m \u001b[49m\u001b[43mx\u001b[49m\u001b[43m:\u001b[49m\u001b[43m \u001b[49m\u001b[38;5;28;43mint\u001b[39;49m\u001b[43m(\u001b[49m\u001b[43mx\u001b[49m\u001b[43m[\u001b[49m\u001b[38;5;241;43m1\u001b[39;49m\u001b[43m:\u001b[49m\u001b[43m]\u001b[49m\u001b[43m)\u001b[49m\u001b[43m)\u001b[49m\n\u001b[0;32m      6\u001b[0m ratings_count \u001b[38;5;241m=\u001b[39m ratings_count\u001b[38;5;241m.\u001b[39mreset_index()\n\u001b[0;32m      7\u001b[0m merged \u001b[38;5;241m=\u001b[39m pd\u001b[38;5;241m.\u001b[39mmerge(movies, ratings_count, on\u001b[38;5;241m=\u001b[39m\u001b[38;5;124m'\u001b[39m\u001b[38;5;124mmovie_id\u001b[39m\u001b[38;5;124m'\u001b[39m, how\u001b[38;5;241m=\u001b[39m\u001b[38;5;124m'\u001b[39m\u001b[38;5;124minner\u001b[39m\u001b[38;5;124m'\u001b[39m)\n",
      "File \u001b[1;32m~\\AppData\\Local\\Packages\\PythonSoftwareFoundation.Python.3.10_qbz5n2kfra8p0\\LocalCache\\local-packages\\Python310\\site-packages\\pandas\\core\\series.py:4433\u001b[0m, in \u001b[0;36mSeries.apply\u001b[1;34m(self, func, convert_dtype, args, **kwargs)\u001b[0m\n\u001b[0;32m   4323\u001b[0m \u001b[38;5;28;01mdef\u001b[39;00m \u001b[38;5;21mapply\u001b[39m(\n\u001b[0;32m   4324\u001b[0m     \u001b[38;5;28mself\u001b[39m,\n\u001b[0;32m   4325\u001b[0m     func: AggFuncType,\n\u001b[1;32m   (...)\u001b[0m\n\u001b[0;32m   4328\u001b[0m     \u001b[38;5;241m*\u001b[39m\u001b[38;5;241m*\u001b[39mkwargs,\n\u001b[0;32m   4329\u001b[0m ) \u001b[38;5;241m-\u001b[39m\u001b[38;5;241m>\u001b[39m DataFrame \u001b[38;5;241m|\u001b[39m Series:\n\u001b[0;32m   4330\u001b[0m \u001b[38;5;250m    \u001b[39m\u001b[38;5;124;03m\"\"\"\u001b[39;00m\n\u001b[0;32m   4331\u001b[0m \u001b[38;5;124;03m    Invoke function on values of Series.\u001b[39;00m\n\u001b[0;32m   4332\u001b[0m \n\u001b[1;32m   (...)\u001b[0m\n\u001b[0;32m   4431\u001b[0m \u001b[38;5;124;03m    dtype: float64\u001b[39;00m\n\u001b[0;32m   4432\u001b[0m \u001b[38;5;124;03m    \"\"\"\u001b[39;00m\n\u001b[1;32m-> 4433\u001b[0m     \u001b[38;5;28;01mreturn\u001b[39;00m \u001b[43mSeriesApply\u001b[49m\u001b[43m(\u001b[49m\u001b[38;5;28;43mself\u001b[39;49m\u001b[43m,\u001b[49m\u001b[43m \u001b[49m\u001b[43mfunc\u001b[49m\u001b[43m,\u001b[49m\u001b[43m \u001b[49m\u001b[43mconvert_dtype\u001b[49m\u001b[43m,\u001b[49m\u001b[43m \u001b[49m\u001b[43margs\u001b[49m\u001b[43m,\u001b[49m\u001b[43m \u001b[49m\u001b[43mkwargs\u001b[49m\u001b[43m)\u001b[49m\u001b[38;5;241;43m.\u001b[39;49m\u001b[43mapply\u001b[49m\u001b[43m(\u001b[49m\u001b[43m)\u001b[49m\n",
      "File \u001b[1;32m~\\AppData\\Local\\Packages\\PythonSoftwareFoundation.Python.3.10_qbz5n2kfra8p0\\LocalCache\\local-packages\\Python310\\site-packages\\pandas\\core\\apply.py:1082\u001b[0m, in \u001b[0;36mSeriesApply.apply\u001b[1;34m(self)\u001b[0m\n\u001b[0;32m   1078\u001b[0m \u001b[38;5;28;01mif\u001b[39;00m \u001b[38;5;28misinstance\u001b[39m(\u001b[38;5;28mself\u001b[39m\u001b[38;5;241m.\u001b[39mf, \u001b[38;5;28mstr\u001b[39m):\n\u001b[0;32m   1079\u001b[0m     \u001b[38;5;66;03m# if we are a string, try to dispatch\u001b[39;00m\n\u001b[0;32m   1080\u001b[0m     \u001b[38;5;28;01mreturn\u001b[39;00m \u001b[38;5;28mself\u001b[39m\u001b[38;5;241m.\u001b[39mapply_str()\n\u001b[1;32m-> 1082\u001b[0m \u001b[38;5;28;01mreturn\u001b[39;00m \u001b[38;5;28;43mself\u001b[39;49m\u001b[38;5;241;43m.\u001b[39;49m\u001b[43mapply_standard\u001b[49m\u001b[43m(\u001b[49m\u001b[43m)\u001b[49m\n",
      "File \u001b[1;32m~\\AppData\\Local\\Packages\\PythonSoftwareFoundation.Python.3.10_qbz5n2kfra8p0\\LocalCache\\local-packages\\Python310\\site-packages\\pandas\\core\\apply.py:1137\u001b[0m, in \u001b[0;36mSeriesApply.apply_standard\u001b[1;34m(self)\u001b[0m\n\u001b[0;32m   1131\u001b[0m         values \u001b[38;5;241m=\u001b[39m obj\u001b[38;5;241m.\u001b[39mastype(\u001b[38;5;28mobject\u001b[39m)\u001b[38;5;241m.\u001b[39m_values\n\u001b[0;32m   1132\u001b[0m         \u001b[38;5;66;03m# error: Argument 2 to \"map_infer\" has incompatible type\u001b[39;00m\n\u001b[0;32m   1133\u001b[0m         \u001b[38;5;66;03m# \"Union[Callable[..., Any], str, List[Union[Callable[..., Any], str]],\u001b[39;00m\n\u001b[0;32m   1134\u001b[0m         \u001b[38;5;66;03m# Dict[Hashable, Union[Union[Callable[..., Any], str],\u001b[39;00m\n\u001b[0;32m   1135\u001b[0m         \u001b[38;5;66;03m# List[Union[Callable[..., Any], str]]]]]\"; expected\u001b[39;00m\n\u001b[0;32m   1136\u001b[0m         \u001b[38;5;66;03m# \"Callable[[Any], Any]\"\u001b[39;00m\n\u001b[1;32m-> 1137\u001b[0m         mapped \u001b[38;5;241m=\u001b[39m \u001b[43mlib\u001b[49m\u001b[38;5;241;43m.\u001b[39;49m\u001b[43mmap_infer\u001b[49m\u001b[43m(\u001b[49m\n\u001b[0;32m   1138\u001b[0m \u001b[43m            \u001b[49m\u001b[43mvalues\u001b[49m\u001b[43m,\u001b[49m\n\u001b[0;32m   1139\u001b[0m \u001b[43m            \u001b[49m\u001b[43mf\u001b[49m\u001b[43m,\u001b[49m\u001b[43m  \u001b[49m\u001b[38;5;66;43;03m# type: ignore[arg-type]\u001b[39;49;00m\n\u001b[0;32m   1140\u001b[0m \u001b[43m            \u001b[49m\u001b[43mconvert\u001b[49m\u001b[38;5;241;43m=\u001b[39;49m\u001b[38;5;28;43mself\u001b[39;49m\u001b[38;5;241;43m.\u001b[39;49m\u001b[43mconvert_dtype\u001b[49m\u001b[43m,\u001b[49m\n\u001b[0;32m   1141\u001b[0m \u001b[43m        \u001b[49m\u001b[43m)\u001b[49m\n\u001b[0;32m   1143\u001b[0m \u001b[38;5;28;01mif\u001b[39;00m \u001b[38;5;28mlen\u001b[39m(mapped) \u001b[38;5;129;01mand\u001b[39;00m \u001b[38;5;28misinstance\u001b[39m(mapped[\u001b[38;5;241m0\u001b[39m], ABCSeries):\n\u001b[0;32m   1144\u001b[0m     \u001b[38;5;66;03m# GH#43986 Need to do list(mapped) in order to get treated as nested\u001b[39;00m\n\u001b[0;32m   1145\u001b[0m     \u001b[38;5;66;03m#  See also GH#25959 regarding EA support\u001b[39;00m\n\u001b[0;32m   1146\u001b[0m     \u001b[38;5;28;01mreturn\u001b[39;00m obj\u001b[38;5;241m.\u001b[39m_constructor_expanddim(\u001b[38;5;28mlist\u001b[39m(mapped), index\u001b[38;5;241m=\u001b[39mobj\u001b[38;5;241m.\u001b[39mindex)\n",
      "File \u001b[1;32m~\\AppData\\Local\\Packages\\PythonSoftwareFoundation.Python.3.10_qbz5n2kfra8p0\\LocalCache\\local-packages\\Python310\\site-packages\\pandas\\_libs\\lib.pyx:2870\u001b[0m, in \u001b[0;36mpandas._libs.lib.map_infer\u001b[1;34m()\u001b[0m\n",
      "Cell \u001b[1;32mIn[4], line 5\u001b[0m, in \u001b[0;36m<lambda>\u001b[1;34m(x)\u001b[0m\n\u001b[0;32m      3\u001b[0m ratings_count \u001b[38;5;241m=\u001b[39m pd\u001b[38;5;241m.\u001b[39mDataFrame({\u001b[38;5;124m'\u001b[39m\u001b[38;5;124mcount\u001b[39m\u001b[38;5;124m'\u001b[39m: ratings_count})\n\u001b[0;32m      4\u001b[0m ratings_count[\u001b[38;5;124m'\u001b[39m\u001b[38;5;124mmovie_id\u001b[39m\u001b[38;5;124m'\u001b[39m] \u001b[38;5;241m=\u001b[39m ratings_count\u001b[38;5;241m.\u001b[39mindex\n\u001b[1;32m----> 5\u001b[0m ratings_count[\u001b[38;5;124m'\u001b[39m\u001b[38;5;124mmovie_id\u001b[39m\u001b[38;5;124m'\u001b[39m] \u001b[38;5;241m=\u001b[39m ratings_count[\u001b[38;5;124m'\u001b[39m\u001b[38;5;124mmovie_id\u001b[39m\u001b[38;5;124m'\u001b[39m]\u001b[38;5;241m.\u001b[39mapply(\u001b[38;5;28;01mlambda\u001b[39;00m x: \u001b[38;5;28;43mint\u001b[39;49m\u001b[43m(\u001b[49m\u001b[43mx\u001b[49m\u001b[43m[\u001b[49m\u001b[38;5;241;43m1\u001b[39;49m\u001b[43m:\u001b[49m\u001b[43m]\u001b[49m\u001b[43m)\u001b[49m)\n\u001b[0;32m      6\u001b[0m ratings_count \u001b[38;5;241m=\u001b[39m ratings_count\u001b[38;5;241m.\u001b[39mreset_index()\n\u001b[0;32m      7\u001b[0m merged \u001b[38;5;241m=\u001b[39m pd\u001b[38;5;241m.\u001b[39mmerge(movies, ratings_count, on\u001b[38;5;241m=\u001b[39m\u001b[38;5;124m'\u001b[39m\u001b[38;5;124mmovie_id\u001b[39m\u001b[38;5;124m'\u001b[39m, how\u001b[38;5;241m=\u001b[39m\u001b[38;5;124m'\u001b[39m\u001b[38;5;124minner\u001b[39m\u001b[38;5;124m'\u001b[39m)\n",
      "\u001b[1;31mValueError\u001b[0m: invalid literal for int() with base 10: 'nnamed: 3706'"
     ]
    }
   ],
   "source": [
    "# Get ratings data and merge with movies list\n",
    "ratings_count = ratings.count(axis=0)\n",
    "ratings_count = pd.DataFrame({'count': ratings_count})\n",
    "ratings_count['movie_id'] = ratings_count.index\n",
    "ratings_count['movie_id'] = ratings_count['movie_id'].apply(lambda x: int(x[1:]))\n",
    "ratings_count = ratings_count.reset_index()\n",
    "merged = pd.merge(movies, ratings_count, on='movie_id', how='inner')\n",
    "merged = merged.drop(columns='index')\n",
    "\n",
    "# Output the merged dataset to a CSV file, excluding index column\n",
    "merged.to_csv('data/movies_with_ratings_count.csv', index=False)"
   ]
  },
  {
   "cell_type": "code",
   "execution_count": null,
   "id": "7d52832e",
   "metadata": {},
   "outputs": [],
   "source": [
    "# Create a list of all the genre options\n",
    "\n",
    "# Filter out None values\n",
    "genres = merged[\"genres\"].str.split(\"|\", expand=True)\n",
    "\n",
    "# Only keep uniques\n",
    "genres = genres.stack().unique()\n",
    "\n",
    "# Sort the list alphabetically\n",
    "genres = np.sort(genres)\n",
    "\n",
    "# Output to csv, excluding index column and column headers\n",
    "genres_df = pd.DataFrame(genres, columns=[\"Genre\"])\n",
    "genres_df.to_csv(\"data/genres.csv\", index=False, header=False)"
   ]
  },
  {
   "cell_type": "markdown",
   "id": "da50e434",
   "metadata": {},
   "source": [
    "## System I: Recommendatings by Genre\n",
    "\n",
    "Get movie recommendations based on a specified genre, ranked by number of ratings. "
   ]
  },
  {
   "cell_type": "code",
   "execution_count": null,
   "id": "3b744a7c-429c-4d25-acde-4bca8ba799b8",
   "metadata": {
    "tags": []
   },
   "outputs": [],
   "source": [
    "def top_movies_in_genre(df, genre, n = 10):\n",
    "    # Filter DataFrame for rows with the specified genre\n",
    "    genre_df = df[df['genres'].str.contains(genre)]\n",
    "\n",
    "    # Sort DataFrame by count in descending order\n",
    "    sorted_genre_df = genre_df.sort_values(by='count', ascending=False)\n",
    "\n",
    "    # Take the top n rows\n",
    "    top_movies = sorted_genre_df.head(n)\n",
    "\n",
    "    return top_movies"
   ]
  },
  {
   "cell_type": "code",
   "execution_count": null,
   "id": "3bd22478-c7cb-492e-ac92-a9c7aec172a8",
   "metadata": {
    "tags": []
   },
   "outputs": [],
   "source": [
    "# Example usage\n",
    "top_movies_in_genre(merged, \"Comedy\", 20)"
   ]
  },
  {
   "cell_type": "markdown",
   "id": "6902ff4b-4edd-42bd-9f0c-a4447723f702",
   "metadata": {},
   "source": [
    "# System 2: Item-Based Collaborative Filtering (IBCF)"
   ]
  },
  {
   "cell_type": "code",
   "execution_count": null,
   "id": "b3ae4ce8-6398-4e98-a53d-213894598ca2",
   "metadata": {
    "tags": []
   },
   "outputs": [],
   "source": [
    "# Normalize the ratings data by centering it around the mean rating for each movie\n",
    "row_means = np.nanmean(ratings, axis=1, keepdims=True)\n",
    "\n",
    "# Create a matrix where each row mean is repeated along the columns\n",
    "row_means_matrix = np.tile(row_means, (1, ratings.shape[1]))\n",
    "\n",
    "# Subtract the row means matrix from the original matrix\n",
    "R = ratings - row_means_matrix\n",
    "\n",
    "# Ouput normalized ratings to CSV\n",
    "R.to_csv('data/ratings_norm.csv')"
   ]
  },
  {
   "cell_type": "markdown",
   "id": "fa7e6f04-5c91-4f2b-b1e6-311b26a10b84",
   "metadata": {},
   "source": [
    "## !!! IMPORTANT !!!\n",
    "\n",
    "R is much faster than python at creating the similarity matrix using cosine similarity. Therefore, we will use R to create the similarity matrix, then resume the rest of the system 2 data processing in python.\n",
    "\n",
    "The `similarity.Rmd` script expects that `data/ratings_norm.csv` exists (which is written in the block above). It will output the `similarity.csv` file, which is used in subsequent steps."
   ]
  },
  {
   "cell_type": "code",
   "execution_count": null,
   "id": "53118873-eb44-491b-a2b4-0ebd3ce35b9e",
   "metadata": {},
   "outputs": [],
   "source": [
    "# Create a mask\n",
    "# Note: this only needs to be run once on ratings.csv.\n",
    "\n",
    "try:\n",
    "    # Check if data/mask.csv exists. If it does, load it\n",
    "    mask = pd.read_csv(\"data/mask.csv\")\n",
    "except:\n",
    "    # If it doesn't, create it\n",
    "    not_na = ratings.notna().astype(int)\n",
    "    ratings_mask = not_na.dot(not_na.T)\n",
    "    ratings_mask.to_csv(\"data/mask.csv\")"
   ]
  },
  {
   "cell_type": "markdown",
   "id": "1913bfc7-05e9-4f93-a2ec-28b433a0b209",
   "metadata": {},
   "source": [
    "# Check similarity matrix"
   ]
  },
  {
   "cell_type": "code",
   "execution_count": null,
   "id": "7b0ee16b-aaa0-47fa-a633-d6b3f4a80d73",
   "metadata": {},
   "outputs": [],
   "source": [
    "S = pd.read_csv('data/similarity.csv')\n",
    "S.set_index('Unnamed: 0', inplace= True)\n",
    "\n",
    "mask.set_index(\"Unnamed: 0\", inplace= True)\n",
    "np.fill_diagonal(mask.values, 0)\n",
    "\n",
    "# For all movies with less than 3 ratings, set the similarity to nan\n",
    "S[mask < 3] = np.nan"
   ]
  },
  {
   "cell_type": "code",
   "execution_count": null,
   "id": "6a5fda3f-b46b-4ee1-859b-5e4afcf8a962",
   "metadata": {},
   "outputs": [],
   "source": [
    "# Test similarity output of selected movies, rounded to 7 decimal places\n",
    "selected_indices = ['m1', 'm10', 'm100', 'm1510', 'm260', 'm3212']\n",
    "\n",
    "sample_similarity = S.loc[selected_indices, selected_indices]\n",
    "sample_similarity.round(7)\n",
    "\n",
    "sample_similarity"
   ]
  },
  {
   "cell_type": "code",
   "execution_count": null,
   "id": "9e4d1adc-6b94-4750-b995-cee1d06e517c",
   "metadata": {},
   "outputs": [],
   "source": [
    "# Create a function to get the top n (default 30) similar movies for each movie\n",
    "def top_n(row, n = 30):\n",
    "    top_n_indices = row.sort_values(ascending=False).index[:n]\n",
    "    row.loc[~row.index.isin(top_n_indices)] = np.nan\n",
    "    return row\n",
    "\n",
    "S = S.apply(top_n, axis=1)\n",
    "S.to_csv('data/similarity_top_30.csv')"
   ]
  },
  {
   "cell_type": "code",
   "execution_count": null,
   "id": "b1109bca-e526-452f-961b-de211a8a1b2a",
   "metadata": {},
   "outputs": [],
   "source": [
    "S_top30 = pd.read_csv('data/similarity_top_30.csv')\n",
    "S_top30.set_index(\"Unnamed: 0\", inplace= True)"
   ]
  },
  {
   "cell_type": "code",
   "execution_count": null,
   "id": "9402daed-6409-4a48-8d35-22f65d54ff41",
   "metadata": {},
   "outputs": [],
   "source": [
    "def myIBCF(similarity_matrix, newuser):\n",
    "    not_rated_indices = []\n",
    "    for index in newuser.index:\n",
    "        if np.isnan(newuser[index]):\n",
    "            not_rated_indices.append(index)\n",
    "    df_not_rated = pd.DataFrame(index=not_rated_indices, columns=[\"Value\"])\n",
    "\n",
    "    for l in df_not_rated.index:\n",
    "        Sl = S_top30.loc[l].dropna()\n",
    "\n",
    "        movie_score_num = 0\n",
    "        movie_score_denom = 0\n",
    "        w = newuser\n",
    "\n",
    "        for i in Sl.index:\n",
    "            w_i = 0 if np.isnan(w[i]) else w[i]\n",
    "            movie_score_num += w_i * Sl[i]\n",
    "            if w_i != 0:\n",
    "                movie_score_denom += Sl[i]\n",
    "        if movie_score_denom != 0:\n",
    "            df_not_rated.loc[l] = movie_score_num / movie_score_denom\n",
    "\n",
    "    return df_not_rated.sort_values(by=\"Value\", ascending=False).head(10)"
   ]
  },
  {
   "cell_type": "markdown",
   "id": "943a3417-a17a-4e4a-99b2-9fa7ab48439f",
   "metadata": {},
   "source": [
    "# Top recommendations for user u1181"
   ]
  },
  {
   "cell_type": "code",
   "execution_count": null,
   "id": "e6ce6de3-49f6-42d8-9862-ca15999b9bdb",
   "metadata": {},
   "outputs": [],
   "source": [
    "# Test myIBCF function with user u1181\n",
    "print(\"Top Recommendations for User u1181\")\n",
    "newuser = ratings.loc['u1181']\n",
    "myIBCF(S_top30, newuser)"
   ]
  },
  {
   "cell_type": "markdown",
   "id": "afe7e568-47d5-462a-9631-591e7908c45d",
   "metadata": {},
   "source": [
    "# Top recommendations for user u1181\r\n"
   ]
  },
  {
   "cell_type": "code",
   "execution_count": null,
   "id": "8d3c28a1-1fa5-460e-8ae1-f23da070a8b1",
   "metadata": {},
   "outputs": [],
   "source": [
    "# Test myIBCF function with user u1351\n",
    "print(\"Top Recommendations for User u1351\")\n",
    "newuser = ratings.loc['u1351']\n",
    "myIBCF(S_top30, newuser)"
   ]
  },
  {
   "cell_type": "markdown",
   "id": "101cd49d-739e-481b-9735-866375e2885d",
   "metadata": {},
   "source": [
    "# Top recommendations for user John, who rates movie \"m1613\" a 5 and movie \"m1755\" a 4\r\n"
   ]
  },
  {
   "cell_type": "code",
   "execution_count": null,
   "id": "ae299331-24de-4794-8b0b-d3fb888887c6",
   "metadata": {},
   "outputs": [],
   "source": [
    "# Test myIBCF function with user u1351\n",
    "print(\"Top Recommendations for User John\")\n",
    "newuser = ratings.loc['John']\n",
    "myIBCF(S_top30, newuser)"
   ]
  }
 ],
 "metadata": {
  "kernelspec": {
   "display_name": "Python 3 (ipykernel)",
   "language": "python",
   "name": "python3"
  },
  "language_info": {
   "codemirror_mode": {
    "name": "ipython",
    "version": 3
   },
   "file_extension": ".py",
   "mimetype": "text/x-python",
   "name": "python",
   "nbconvert_exporter": "python",
   "pygments_lexer": "ipython3",
   "version": "3.10.11"
  }
 },
 "nbformat": 4,
 "nbformat_minor": 5
}
